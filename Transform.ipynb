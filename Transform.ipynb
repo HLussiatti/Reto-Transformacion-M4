{
 "cells": [
  {
   "cell_type": "code",
   "execution_count": 37,
   "metadata": {},
   "outputs": [],
   "source": [
    "import pandas as pd\n",
    "import json\n",
    "\n",
    "# Levanto parquet en un DF\n",
    "df = pd.read_parquet('business.parquet')\n",
    "\n",
    "# Consolido la información del DF en objetos distintos, cada fila deberá armar un diccionario para darle la estructura adecuada\n",
    "# Sino lo que sucede es que me quedan primero todos los clientes, luego todas las ubicaciones, etc...\n",
    "# Esto me obliga a recorrer todos los DF y convertir cada linea en un diccinario.\n",
    "\n",
    "json_salida= []\n",
    "for index in range(len(df)):\n",
    "\n",
    "    df_cliente = df[['EDAD','SEXO','ECIVIL']].iloc[index].to_dict()\n",
    "    df_ubicacion = df[['AMBITO','ZONA']].iloc[index].to_dict() #No se bien qué es AMBITO, lo tomo como algo relacionado a la ubicación\n",
    "    df_historial_crediticio = df[['ANTIGUEDAD_MESES','TIPO_TARJETA', 'LINEA_CREDITO','RNG_LINEA','DEUDA_TARJETA']].iloc[index].to_dict()\n",
    "    df_transacciones = df[['Total_facturacion','Num_compras']].iloc[index].to_dict()\n",
    "\n",
    "\n",
    "    # Creo un Diccionario nuevo con la estructura necesaria para el json.\n",
    "    ID_CLIENTE = {\"ID_CLIENTE\": df['ID_CLIENTE'].iloc[index] }\n",
    "\n",
    "    INFO_CLIENTE = {\n",
    "        \"datos_cliente\": df_cliente,\n",
    "        \"ubicacion\": df_ubicacion,\n",
    "        \"hitorial_crediticio\": df_historial_crediticio,\n",
    "        \"transacciones\": df_transacciones \n",
    "    }\n",
    "\n",
    "    ID_CLIENTE[\"INFO_CLIENTE\"] = INFO_CLIENTE\n",
    "\n",
    "    # Ponemos el diccionario en una lista.   \n",
    "    json_salida.append(ID_CLIENTE)\n",
    "\n",
    "# Se transforma en formato json.\n",
    "#json_data = json.dumps(json_salida, indent=4)\n",
    "\n",
    "# Se escribe un archivo con el json.\n",
    "with open('data.json', 'w') as f:\n",
    "    json.dump(json_salida, f, indent=4)\n"
   ]
  }
 ],
 "metadata": {
  "kernelspec": {
   "display_name": "Python 3",
   "language": "python",
   "name": "python3"
  },
  "language_info": {
   "codemirror_mode": {
    "name": "ipython",
    "version": 3
   },
   "file_extension": ".py",
   "mimetype": "text/x-python",
   "name": "python",
   "nbconvert_exporter": "python",
   "pygments_lexer": "ipython3",
   "version": "3.12.1"
  }
 },
 "nbformat": 4,
 "nbformat_minor": 2
}
